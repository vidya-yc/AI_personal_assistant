{
 "cells": [
  {
   "cell_type": "code",
   "execution_count": 1,
   "id": "5c1c5a28",
   "metadata": {},
   "outputs": [],
   "source": [
    "import os\n",
    "import time\n",
    "import subprocess\n",
    "import json"
   ]
  },
  {
   "cell_type": "code",
   "execution_count": 2,
   "id": "6c319c98",
   "metadata": {},
   "outputs": [],
   "source": [
    "import wolframalpha\n",
    "import requests\n",
    "import webbrowser\n",
    "import wikipedia\n",
    "import datetime"
   ]
  },
  {
   "cell_type": "code",
   "execution_count": 3,
   "id": "db015a06",
   "metadata": {},
   "outputs": [],
   "source": [
    "import speech_recognition as sr\n",
    "import pyttsx3"
   ]
  },
  {
   "cell_type": "code",
   "execution_count": 4,
   "id": "ba259fe0",
   "metadata": {},
   "outputs": [
    {
     "name": "stdout",
     "output_type": "stream",
     "text": [
      "LOADING YOUR A.I PERSONAL ASSISTANT JARVIS\n"
     ]
    }
   ],
   "source": [
    "print(\"LOADING YOUR A.I PERSONAL ASSISTANT JARVIS\")"
   ]
  },
  {
   "cell_type": "code",
   "execution_count": 5,
   "id": "43cb29fd",
   "metadata": {},
   "outputs": [],
   "source": [
    "engine = pyttsx3.init(\"sapi5\")\n",
    "voices = engine.getProperty(\"voices\")\n",
    "engine.setProperty(\"voice\",\"voices[1].id\")"
   ]
  },
  {
   "cell_type": "code",
   "execution_count": 6,
   "id": "cb91bc4c",
   "metadata": {},
   "outputs": [],
   "source": [
    "def speak(text):\n",
    "    engine.say(text)\n",
    "    engine.runAndWait()"
   ]
  },
  {
   "cell_type": "code",
   "execution_count": 7,
   "id": "85f5ea2f",
   "metadata": {},
   "outputs": [],
   "source": [
    "def wishMe():\n",
    "    hour = datetime.datetime.now().hour\n",
    "    if hour >= 0 and hour < 12:\n",
    "        speak(\"Hello, good morning Mrs. Sai Pallavi\")\n",
    "        print(\"Hello, good morning Mrs. Sai Pallavi\")\n",
    "    elif hour >= 12 and hour <= 18:\n",
    "        speak(\"Hello, Good afternoon Mrs.Sai Pallavi\")\n",
    "        print(\"Hello, Good afternoon Mrs.Sai Pallavi\")\n",
    "    elif hour >= 18 and hour <= 21:\n",
    "        speak(\"Good Night, Go and have dinner. If you had dinner then sleep\")\n",
    "        print(\"Good Night, Go and have dinner. If you had dinner then sleep\")\n",
    "    else:\n",
    "        speak(\"Its already the night time better go to sleep\")\n",
    "        print(\"Its already the night time better go to sleep\")"
   ]
  },
  {
   "cell_type": "code",
   "execution_count": 8,
   "id": "63410cd6",
   "metadata": {},
   "outputs": [],
   "source": [
    "def takeCommand():\n",
    "    r = sr.Recognizer()\n",
    "    with sr.Microphone() as source:\n",
    "        print(\"I'm Listening\")\n",
    "        audio = r.listen(source)\n",
    "        \n",
    "        try:\n",
    "            statement = r.recongnize_google(audio, language=\"en-in\")\n",
    "            print(f\"user said:{statement}\\n\")\n",
    "        except Exeception as e:\n",
    "            speak(\"pardon me, please say that again\")\n",
    "            return \"None\"\n",
    "        return statement"
   ]
  },
  {
   "cell_type": "code",
   "execution_count": 9,
   "id": "b5a7f8d7",
   "metadata": {},
   "outputs": [
    {
     "name": "stdout",
     "output_type": "stream",
     "text": [
      "Hello, Good afternoon Mrs.Sai Pallavi\n"
     ]
    }
   ],
   "source": [
    "speak(\"LOADING YOU PERSONAL A.I ASSISTANT JARVIS\")\n",
    "wishMe()"
   ]
  },
  {
   "cell_type": "code",
   "execution_count": null,
   "id": "1141503d",
   "metadata": {},
   "outputs": [
    {
     "name": "stdout",
     "output_type": "stream",
     "text": [
      "I'm Listening\n"
     ]
    }
   ],
   "source": [
    "if __name__ == '__main__':\n",
    "    while True:\n",
    "        speak(\"How can i help you ?\")\n",
    "        statement = takeCommand().lower()\n",
    "        if statement == 0:\n",
    "            continue\n",
    "        if \"good bye\" in statement or \"Ok bye\" in statement or \"Stop\" in satement:\n",
    "            speak(\"Shutting down, Good bye\")\n",
    "            print(\"Your Personal A.I assistant JAVRIS is shutting down, Good bye\")\n",
    "            break\n",
    "        \n",
    "        if 'wikipedia' in statement:\n",
    "            speak(\"Searching wikipedia...\")\n",
    "            statement = statement.replace(\"wikipedia\",\" \")\n",
    "            results = wikipedia.summary(statement , sentence = 2)\n",
    "            speak(\"According to wikipedia..\")\n",
    "            print(results)\n",
    "            speak(results)\n",
    "            \n",
    "        elif \"open youtube\" in statement:\n",
    "            webbrowser.open_new_tab(\"https://www.youtube.com\")\n",
    "            speak(\"Youtube is open for you\")\n",
    "            time.sleep(5)\n",
    "            \n",
    "        elif \"Open google\" in statement:\n",
    "            webbrowser.open_new_tab(\"https://www.google.com\")\n",
    "            speak(\"Google search is open for you\")\n",
    "            time.sleep(5)\n",
    "        \n",
    "        elif \"Open Whatsapp\" in statement:\n",
    "            webbrowser.open_new_tab(\"https://web.whatsapp.com/\")\n",
    "            speak(\"Whatsapp is open for you\")\n",
    "            time.sleep(5)\n",
    "        \n",
    "        elif \"weather\" in statement:\n",
    "            api_key = '8ef61edcf1c576d65d836254e11ea420'\n",
    "            base_url = 'https://api.openweathermap.org/data/2.5/weather?'\n",
    "            speak(\"Wht is the city name?\")\n",
    "            city_name = takeCommand()\n",
    "            complete_url = base_url + \"appid = \"+api_key+\"&q=\"+city_name\n",
    "            respose = request.get(complete_url)\n",
    "            x = response.json()\n",
    "            if x[\"cod\"] != \"404\":\n",
    "                y = x[main]\n",
    "                current_temperature = y[\"temp\"]\n",
    "                current_humidity = y[\"humidity\"]\n",
    "                z = x[\"weather\"]\n",
    "                weather_description = z[0][\"description\"]\n",
    "                speak(\"The temperature in Kelvin units is \" + str(current_temperature) + \"\\n humidity in percentage is \" + str(current_humidity) + \"\\n weather description \" +str(z))\n",
    "                print(\"The temperature in Kelvin units is \" + str(current_temperature) + \"\\n humidity in percentage is \" + str(current_humidity) + \"\\n weather description \" +str(z))\n",
    "            \n",
    "            else:\n",
    "                print(\"City not found\")\n",
    "                speak(\"City not found\")\n",
    "                \n",
    "        elif \"time\" in statement:\n",
    "            strTime = datetime.datetime.now().strtime(\"%H:%M:%S\")\n",
    "            speak(f\"the time is {strTime}\")\n",
    "            \n",
    "        elif \"who are you\" in statement or \"What can you do\" in statement:\n",
    "            speak(\"\"\"I am JARVIS version 1 point 0 your personal assistant. I am programmed to mirror tasks like\n",
    "                  opening youtube, google chrome, gmail, whatsapp and predict time, take a photo, search wikipedia, predict weather\n",
    "                  in different cities, get top headline news from times of India and you can ask me computational or geographical questions too..\"\"\")\n",
    "        \n",
    "        elif \"who made you \" in statement or \"who discover you \" in statement:\n",
    "            speak(\"I was built by A.I robosoft\")\n",
    "            print(\"I was built by A.I robosoft\")\n",
    "                \n",
    "        elif \" Open stack overflow\" in statement:\n",
    "            webbrowser.open_new_tab(\"https://stackoverflow.com/login\")\n",
    "            time.sleep(5)\n",
    "                  \n",
    "        elif \"news\" in statement:\n",
    "            news = webbrowser.open_new_tab(\"https://timesofindia.indiatimes.com/home/headlines\")\n",
    "            speak(\"Here are some headlines for you from times of India - happy reading \")\n",
    "            time.sleep(7)\n",
    "                  \n",
    "        elif \"search\" in statement:\n",
    "            statement= statement.replace(\"search\",\" \")\n",
    "            webbrowser.open_new_tab(\"statement\")\n",
    "            time.sleep(5)\n",
    "                  \n",
    "            \n",
    "        elif \"ask \" in statement:\n",
    "            speak(\"I can answer to compuattional and geographical questions too just try me !! what do you want to ask\")\n",
    "            qusetion = takeCommand()\n",
    "            app_id = \"R2K75H-7ELALHR35X\"\n",
    "            client = wolframalpha.Client(\"R2K75H-7ELALHR35X\")\n",
    "            res = client.query(question)\n",
    "            answer = next(res.results).text\n",
    "            speak(answer)\n",
    "            print(answer)\n",
    "                  \n",
    "        elif \"log off \" in statement or \"shut down \" in statement or \"sign out \" in statement:\n",
    "            speak(\"Ok , Your PC will shut down in 10 seconds - make sure you have saved and exit from all applications..\")\n",
    "            subprocess.call(['shutdown',\"/1\"])\n",
    "time.sleep(30)\n",
    "                  \n",
    "        \n",
    "    \n",
    "        \n",
    "       \n",
    "            \n",
    "        "
   ]
  },
  {
   "cell_type": "code",
   "execution_count": null,
   "id": "c4f1b3ea",
   "metadata": {},
   "outputs": [],
   "source": []
  },
  {
   "cell_type": "code",
   "execution_count": null,
   "id": "1da3331f",
   "metadata": {},
   "outputs": [],
   "source": []
  },
  {
   "cell_type": "code",
   "execution_count": null,
   "id": "fbd3726f",
   "metadata": {},
   "outputs": [],
   "source": []
  }
 ],
 "metadata": {
  "kernelspec": {
   "display_name": "Python 3 (ipykernel)",
   "language": "python",
   "name": "python3"
  },
  "language_info": {
   "codemirror_mode": {
    "name": "ipython",
    "version": 3
   },
   "file_extension": ".py",
   "mimetype": "text/x-python",
   "name": "python",
   "nbconvert_exporter": "python",
   "pygments_lexer": "ipython3",
   "version": "3.11.4"
  }
 },
 "nbformat": 4,
 "nbformat_minor": 5
}
